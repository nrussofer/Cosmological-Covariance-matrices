{
 "cells": [
  {
   "cell_type": "code",
   "execution_count": 1,
   "metadata": {},
   "outputs": [],
   "source": [
    "#Covariance 3x2 + cluster version 1 - Dec 1st 2019\n",
    "# NxN, NxCls (gg, gk, kk) \n",
    "# Incorporates Photo-z uncertainties and mass-richness relationship\n",
    "# mass integral taken outside (assuming average redshift within bin)\n",
    "# units now checked \n",
    "# Limber approximation added to check Ncl and Ncl\n",
    "# Limber assuming for C-ells (l)\n",
    "# using 2FAST algorithm to tackle double bessel integrals \n",
    "# using approximation formula from Assassi, Simonovic and Zaldarriaga paper to overcome Hypergeometric function of a complex argument\n",
    "# assuming full sky for now\n",
    "# Included shot noise (1-halo term)\n",
    "# Added full matrix in the end \n",
    "\n",
    "# *****************************************************************\n",
    "\n",
    "#import necessary modules for our computation\n",
    "import numpy as np\n",
    "import time\n",
    "from scipy.integrate import romb, quad  #this will be necessary for some integrals\n",
    "from scipy.special import gamma #this will import spherical bessel functions, gamma and Gauss Hypergeometric function\n",
    "from scipy.interpolate import interp1d\n",
    "import matplotlib.pyplot as plt\n",
    "import pyccl as ccl #import CCL python wrapper  "
   ]
  },
  {
   "cell_type": "code",
   "execution_count": 2,
   "metadata": {},
   "outputs": [],
   "source": [
    "#Setup initial cosmology and Make a ccl class. We will later vary them for MCMC\n",
    "Omg_c = 0.26\n",
    "Omg_b = 0.04\n",
    "h0 = 0.67 #so H0 = 100h0 will be in km/s/Mpc\n",
    "A_s_value = 2.1e-9\n",
    "n_s_value = 0.96\n",
    "w_0 = -1.\n",
    "w_a = 0.0\n",
    "overdensity_delta = 200\n",
    "c = 299792.458 # in km/s\n",
    "\n",
    "survey_area = 4*np.pi #assuming full sky for now\n",
    "\n",
    "cosmo = ccl.Cosmology(Omega_c = Omg_c, \n",
    "                      Omega_b = Omg_b, \n",
    "                      h = h0, \n",
    "                      A_s = A_s_value, \n",
    "                      n_s = n_s_value, \n",
    "                      w0 = w_0, wa = w_a)"
   ]
  },
  {
   "cell_type": "code",
   "execution_count": 3,
   "metadata": {},
   "outputs": [
    {
     "name": "stdout",
     "output_type": "stream",
     "text": [
      "[0.3  0.35 0.4  0.45 0.5  0.55 0.6  0.65 0.7  0.75 0.8  0.85 0.9  0.95\n",
      " 1.   1.05 1.1  1.15 1.2 ] 18\n",
      "Minimum radial distance is 1247.8400578373084 Mpc\n",
      "Maximum radial distance is 3931.479845283442 Mpc\n"
     ]
    }
   ],
   "source": [
    "#Define arrays for bins for Photometric z and Z grid\n",
    "Zmin = 0.3\n",
    "Zmax = 1.2\n",
    "Z_bin_range = 0.05\n",
    "Num_z_bins = round((Zmax-Zmin)/Z_bin_range)\n",
    "Z_bins = np.round(np.linspace(Zmin,Zmax,Num_z_bins+1),2)\n",
    "print(Z_bins, Num_z_bins)\n",
    "print(\"Minimum radial distance is \" + str(ccl.comoving_radial_distance(cosmo, 1/(1+Z_bins[0])))+ \" Mpc\")\n",
    "print(\"Maximum radial distance is \" + str(ccl.comoving_radial_distance(cosmo, 1/(1+Z_bins[Num_z_bins])))+ \" Mpc\")"
   ]
  },
  {
   "cell_type": "code",
   "execution_count": 4,
   "metadata": {},
   "outputs": [
    {
     "name": "stdout",
     "output_type": "stream",
     "text": [
      "0.09999999999999998 437.18704239759813\n",
      "1.5 4558.602004298992\n"
     ]
    }
   ],
   "source": [
    "# insert function that calculates Photo z, given true redshift z_true and photometric bin z_i\n",
    "def photoz(z_true, z_i): \n",
    "    sigma_z = 0.05*(1+z_true)\n",
    "    integrand = lambda z_phot: np.exp(- (z_phot - z_true)**2. / (2.*sigma_z**2.))/ (np.sqrt(2.*np.pi) * sigma_z)\n",
    "    return (quad(integrand,Z_bins[z_i], Z_bins[z_i+1])[0]/(1.-quad(integrand, -np.inf, 0.)[0]))\n",
    "# Notice that I am truncating the pdf, so as to absorb the negative redshifts into the positive part of the pdf\n",
    "\n",
    "Lim_z_min = max(0.02, Z_bins[0]-4*Z_bin_range) #minimum z_true for the integrals. I am assuming z_true>0.02 \n",
    "Lim_z_max = Z_bins[-1]+6*Z_bin_range #maximum z_true for the integrals, assuming 40% larger than max z, so we dont need to go till infinity\n",
    "\n",
    "Lim_R_min = ccl.comoving_radial_distance(cosmo, 1/(1+Lim_z_min))\n",
    "Lim_R_max = ccl.comoving_radial_distance(cosmo, 1/(1+Lim_z_max))\n",
    "\n",
    "print(Lim_z_min, Lim_R_min)\n",
    "print(Lim_z_max, Lim_R_max)"
   ]
  },
  {
   "cell_type": "code",
   "execution_count": 5,
   "metadata": {
    "scrolled": false
   },
   "outputs": [],
   "source": [
    "#define function for dv1 = comoving volume per steridian as function of z_true for a photometric redshift bin; dv(z) = dz*dr/dz(z)*(r(z)**2)*photoz(z, bin z_i)\n",
    "          \n",
    "def dV(z_true, z_i): #output will be in Mpc**3\n",
    "    return c*(ccl.comoving_radial_distance(cosmo, 1/(1+z_true))**2)/(100*h0*ccl.h_over_h0(cosmo,1/(1+z_true)))*(photoz(z_true, z_i))\n",
    "   "
   ]
  },
  {
   "cell_type": "code",
   "execution_count": 6,
   "metadata": {},
   "outputs": [
    {
     "name": "stdout",
     "output_type": "stream",
     "text": [
      "[ 10.    21.54  46.42 100.  ] 3\n"
     ]
    }
   ],
   "source": [
    "# define logarithmically-spaced richness bins \n",
    "Lbdmin = 10\n",
    "Lbdmax = 100\n",
    "Lbd_bin_range = 30\n",
    "Num_Lbd_bins = round((Lbdmax-Lbdmin)/Lbd_bin_range)\n",
    "Lbd_bins = np.round(np.logspace(np.log10(Lbdmin),np.log10(Lbdmax),Num_Lbd_bins+1),2)\n",
    "print(Lbd_bins, Num_Lbd_bins)"
   ]
  },
  {
   "cell_type": "code",
   "execution_count": 7,
   "metadata": {},
   "outputs": [
    {
     "name": "stdout",
     "output_type": "stream",
     "text": [
      "0.0009528852621284171\n",
      "1.3009749580368971e-11\n"
     ]
    }
   ],
   "source": [
    "# Define lognormal mass-richness relation (leveraging paper from Murata et. alli - ArxIv 1707.01907 and Costanzi et all ArxIv 1810.09456v1)\n",
    "A = 3.207 #Murata\n",
    "B = 0.75 #Costanzi\n",
    "sigma_zero = 2.68 # Costanzi\n",
    "q = 0.54 # # Costanzi\n",
    "M_pivot = 3.e+14/h0 #in solar masses , Murata and Costanzi use it \n",
    "\n",
    "#Function that returns the probability that the true mass ln(M_true) is observed within the bins lambda_i and lambda_i + 1 \n",
    "def mass_richness (Ln_M_true, lbd_i): \n",
    "    sigma_lambda = sigma_zero+q*(Ln_M_true-np.log(M_pivot))\n",
    "    average = A+B*(Ln_M_true-np.log(M_pivot))\n",
    "    integrand = lambda lbd: (1./lbd)*np.exp(- (np.log(lbd)-average)**2. / (2.*sigma_lambda**2.))/ (np.sqrt(2.*np.pi) * sigma_lambda)\n",
    "    return (quad(integrand,Lbd_bins[lbd_i], Lbd_bins[lbd_i+1])[0])\n",
    "\n",
    "Mmin = np.log(1.e+13) #minimum log mass in solar masses; below this the probability is almost nill\n",
    "Mmax = np.log(1.e+16) #maximum log mass in solar masses; above this the halo mass function is below 10^⁻10\n",
    "\n",
    "# just testing which percentage is obtained for the minimum and maximum masses within the richness limits\n",
    "test_min = [mass_richness(Mmin, i) for i in range(Num_Lbd_bins)]\n",
    "print(np.sum(test_min))\n",
    "print(ccl.massfunc(cosmo, np.exp(Mmax), 1/(1+Lim_z_min), overdensity=overdensity_delta))"
   ]
  },
  {
   "cell_type": "code",
   "execution_count": 8,
   "metadata": {
    "scrolled": true
   },
   "outputs": [],
   "source": [
    "# define integral that calculates the response of nh to variations in background density \n",
    "def integral_mass (z, lbd_i): #z is the redshift; i is the lambda bin,with lambda from Lambda_bins[i] to Lambda_bins[i+1]\n",
    "    f = lambda ln_m:(1/np.log(10))*ccl.massfunc(cosmo, np.exp(ln_m),1/(1+z),overdensity = overdensity_delta)*ccl.halo_bias(cosmo, np.exp(ln_m),1/(1+z),overdensity = overdensity_delta)*mass_richness(ln_m, lbd_i)\n",
    "    #Remember ccl.function returns dn/dlog10m, I am changing integrand to d(lnM)\n",
    "    return quad(f, Mmin, Mmax)[0]\n",
    "\n",
    "\n",
    "  "
   ]
  },
  {
   "cell_type": "code",
   "execution_count": 9,
   "metadata": {},
   "outputs": [],
   "source": [
    "#Calculate 2D array for mass integrals\n",
    "mass_array = np.zeros((Num_z_bins, Num_Lbd_bins))\n",
    "for z_i in range(Num_z_bins):\n",
    "    for lbd_i in range(Num_Lbd_bins):\n",
    "        mass_array[z_i,lbd_i] = integral_mass(0.5*(Z_bins[z_i]+Z_bins[z_i+1]),lbd_i)"
   ]
  },
  {
   "cell_type": "code",
   "execution_count": 10,
   "metadata": {},
   "outputs": [
    {
     "name": "stdout",
     "output_type": "stream",
     "text": [
      "[[2.56745394e-05 1.38508867e-05 7.50124757e-06]\n",
      " [2.58298018e-05 1.38199224e-05 7.41684132e-06]\n",
      " [2.59266311e-05 1.37530305e-05 7.31198047e-06]\n",
      " [2.59625979e-05 1.36499573e-05 7.18724475e-06]\n",
      " [2.59359525e-05 1.35108989e-05 7.04347148e-06]\n",
      " [2.58456491e-05 1.33364910e-05 6.88173323e-06]\n",
      " [2.56913539e-05 1.31277876e-05 6.70331076e-06]\n",
      " [2.54734386e-05 1.28862331e-05 6.50966249e-06]\n",
      " [2.51929598e-05 1.26136257e-05 6.30239155e-06]\n",
      " [2.48516256e-05 1.23120754e-05 6.08321130e-06]\n",
      " [2.44517534e-05 1.19839606e-05 5.85391233e-06]\n",
      " [2.39962157e-05 1.16318775e-05 5.61632764e-06]\n",
      " [2.34883789e-05 1.12585911e-05 5.37230098e-06]\n",
      " [2.29320385e-05 1.08669857e-05 5.12365718e-06]\n",
      " [2.23313490e-05 1.04600167e-05 4.87217544e-06]\n",
      " [2.16907529e-05 1.00406645e-05 4.61956554e-06]\n",
      " [2.10149086e-05 9.61189123e-06 4.36744734e-06]\n",
      " [2.03086188e-05 9.17660047e-06 4.11733379e-06]]\n"
     ]
    }
   ],
   "source": [
    "print(mass_array)"
   ]
  },
  {
   "cell_type": "code",
   "execution_count": 12,
   "metadata": {},
   "outputs": [
    {
     "data": {
      "image/png": "[encoded data removed]",
      "text/plain": [
       "<Figure size 432x288 with 1 Axes>"
      ]
     },
     "metadata": {
      "needs_background": "light"
     },
     "output_type": "display_data"
    },
    {
     "data": {
      "image/png": "[encoded data removed]",
      "text/plain": [
       "<Figure size 432x288 with 1 Axes>"
      ]
     },
     "metadata": {
      "needs_background": "light"
     },
     "output_type": "display_data"
    },
    {
     "name": "stdout",
     "output_type": "stream",
     "text": [
      "2293.8187696736672 74686413.61445285\n",
      "[1.00000000e-04 1.01012812e-04 1.02035883e-04 ... 2.94014216e+00\n",
      " 2.96992028e+00 3.00000000e+00]\n"
     ]
    }
   ],
   "source": [
    "# Prepare r array and k array for 2-FAST\n",
    "#Define main parameters\n",
    "ko = 1.e-4\n",
    "kmax = 3\n",
    "ro = 1/kmax\n",
    "rmax = 1/ko\n",
    "G = np.log(kmax/ko)\n",
    "N = 1024\n",
    "L = 2*np.pi*N/G\n",
    "k_vec = np.logspace(np.log(ko), np.log(kmax), N, base = np.exp(1))\n",
    "r_vec = np.logspace(np.log(ro), np.log(rmax), N, base = np.exp(1))\n",
    "bias_fft = 1.4165\n",
    "pk_vec = ccl.linear_matter_power(cosmo, k_vec, 1)\n",
    "fk_vec = (k_vec/ko)**(3.-bias_fft)*pk_vec # this is the function to be fftlog-ed \n",
    "plt.loglog(k_vec, pk_vec)\n",
    "plt.show()\n",
    "plt.loglog(k_vec, fk_vec)\n",
    "plt.show()\n",
    "print(fk_vec[0], fk_vec[-1])\n",
    "print(k_vec)"
   ]
  },
  {
   "cell_type": "code",
   "execution_count": 13,
   "metadata": {},
   "outputs": [],
   "source": [
    "# Performing the FFT of the fk_vec function, leveraging the fact it is real\n",
    "Phi_vec = np.conjugate(np.fft.rfft(fk_vec))/L"
   ]
  },
  {
   "cell_type": "code",
   "execution_count": 14,
   "metadata": {},
   "outputs": [],
   "source": [
    "#Calculating the function M_0_0\n",
    "def I_ell (m, R): #the formula below only valid for R <=1, l = 0,  formula B2 ASZ and 31 from 2-fast paper \n",
    "    t_m = 2*np.pi*m/G\n",
    "    alpha_m = bias_fft-1.j*t_m\n",
    "    pre_factor =(ko*ro)**(-alpha_m)\n",
    "    if R<1:\n",
    "        return pre_factor*0.5*np.cos(np.pi*alpha_m/2)*gamma(alpha_m-2)*(1/R)*((1+R)**(2-alpha_m)-(1-R)**(2-alpha_m))\n",
    "    elif R==1:\n",
    "        return pre_factor*0.5*np.cos(np.pi*alpha_m/2)*gamma(alpha_m-2)*((1+R)**(2-alpha_m))\n",
    "    "
   ]
  },
  {
   "cell_type": "code",
   "execution_count": 15,
   "metadata": {},
   "outputs": [
    {
     "name": "stdout",
     "output_type": "stream",
     "text": [
      "708 950\n"
     ]
    }
   ],
   "source": [
    "#this range includes the Min and  Max limits of the integrals, with a +- safety factor of 5\n",
    "Index_min = np.int(np.argwhere(r_vec>Lim_R_min)[0]-5)\n",
    "Index_max = np.int(np.argwhere(r_vec<Lim_R_max)[-1]+5)\n",
    "print(Index_min,Index_max)"
   ]
  },
  {
   "cell_type": "code",
   "execution_count": 16,
   "metadata": {},
   "outputs": [],
   "source": [
    "# function that calculates the double bessel integral from I-ell algorithm, as function of z1 and z2\n",
    "def double_bessel_integral (z1,z2):\n",
    "    r2 = ccl.comoving_radial_distance(cosmo, 1/(1+z2))\n",
    "    r1 = ccl.comoving_radial_distance(cosmo, 1/(1+z1))\n",
    "    R = min(r1, r2)/max(r1, r2) #definition of t, forcing it to be <= 1\n",
    "    I_ell_vec = [I_ell(m,R) for m in range(N//2+1)]\n",
    "    back_FFT_vec = np.fft.irfft(Phi_vec*I_ell_vec)*N # FFT back\n",
    "    two_fast_vec = (1/np.pi)*(ko**3)*((r_vec/ro)**(-bias_fft))*back_FFT_vec/G\n",
    "    f = interp1d(r_vec[Index_min:Index_max],two_fast_vec[Index_min:Index_max], kind = 'cubic') #we will use this to interpolate the exact r(z1)\n",
    "    return f(max(r1, r2))\n",
    "    \n"
   ]
  },
  {
   "cell_type": "code",
   "execution_count": 17,
   "metadata": {},
   "outputs": [
    {
     "name": "stdout",
     "output_type": "stream",
     "text": [
      "0.0006499908996327016\n"
     ]
    }
   ],
   "source": [
    "print(double_bessel_integral(0.1,0.1))"
   ]
  },
  {
   "cell_type": "code",
   "execution_count": 21,
   "metadata": {},
   "outputs": [
    {
     "name": "stdout",
     "output_type": "stream",
     "text": [
      "[[1.01695566e-03 2.34541262e-03 5.11118733e-03 ... 4.92776411e-19\n",
      "  3.33475910e-19 2.25932769e-19]\n",
      " [1.88631564e-05 5.37171202e-05 1.43578829e-04 ... 1.72633742e-17\n",
      "  1.17166335e-17 7.96007505e-18]\n",
      " [1.60620062e-07 5.73091030e-07 1.90568568e-06 ... 5.26207287e-16\n",
      "  3.58607300e-16 2.44596203e-16]\n",
      " ...\n",
      " [2.86030540e-66 7.02451967e-64 1.42070713e-61 ... 1.07398788e-02\n",
      "  8.60942651e-03 6.88496607e-03]\n",
      " [2.84736009e-73 1.06856147e-70 3.26329494e-68 ... 3.80977698e-02\n",
      "  3.11832074e-02 2.54534202e-02]\n",
      " [1.24888525e-80 7.26283531e-78 3.39511276e-75 ... 1.15624349e-01\n",
      "  9.67459421e-02 8.06986151e-02]]\n"
     ]
    }
   ],
   "source": [
    "# Now we define photo-Z adjusted dNdZ \n",
    "\n",
    "def dNdZ_true (z, alpha=1.24, beta=1.01, z0=0.51):\n",
    "    \"\"\"Smail et al. 1994 redshift dist\"\"\"\n",
    "    return np.power(z, alpha) * np.exp(-np.power(z/z0, beta))\n",
    "nz = 150\n",
    "z_true_vec = np.linspace(Lim_z_min, Lim_z_max,nz)\n",
    "\n",
    "#Normalized dNdZ array as a function of z_true per photo-z bin\n",
    "dNdZ_photo_bin = np.zeros((Num_z_bins,nz))\n",
    "for z_i in range (Num_z_bins):\n",
    "    denom = lambda x: dNdZ_true(x)*photoz(x, z_i)\n",
    "    dNdZ_photo_bin[z_i] = [dNdZ_true(z_true_vec[i])*photoz(z_true_vec[i],z_i)/quad(denom, Lim_z_min, Lim_z_max)[0] for i in range (nz)]\n",
    "\n",
    "print(dNdZ_photo_bin)\n",
    "\n",
    "\n",
    "\n"
   ]
  },
  {
   "cell_type": "code",
   "execution_count": 22,
   "metadata": {},
   "outputs": [
    {
     "name": "stdout",
     "output_type": "stream",
     "text": [
      "1.1007867362938151e-05 2.9100140367012055e-08 1.163909498821603e-09\n",
      "1.6901492025627163e-06 4.622927679896756e-09 2.3278051390017473e-10\n",
      "6.245014132577745e-07 1.7495453171962112e-09 7.236937816659259e-11\n"
     ]
    }
   ],
   "source": [
    "#Define standard CCL tracers for position and shear\n",
    "bg = 1.3*np.ones(nz) #Assuming constant linear bias for now\n",
    "\n",
    "Gal_position = np.array([ccl.NumberCountsTracer(cosmo, has_rsd=False, dndz=(z_true_vec, dNdZ_photo_bin[z_i]), bias=(z_true_vec, bg)) for z_i in range (Num_z_bins)])\n",
    "Gal_shear = np.array([ccl.WeakLensingTracer(cosmo, dndz=(z_true_vec, dNdZ_photo_bin[z_i])) for z_i in range(Num_z_bins)])\n",
    "\n",
    "\n",
    "print(ccl.angular_cl(cosmo, Gal_position[1],Gal_position[1],100), ccl.angular_cl(cosmo, Gal_position[1], Gal_shear[1], 100), ccl.angular_cl(cosmo, Gal_shear[1], Gal_shear[1],100))\n",
    "print(ccl.angular_cl(cosmo, Gal_position[1],Gal_position[1],400), ccl.angular_cl(cosmo, Gal_position[1], Gal_shear[1], 400), ccl.angular_cl(cosmo, Gal_shear[1], Gal_shear[1],400))\n",
    "print(ccl.angular_cl(cosmo, Gal_position[1],Gal_position[1],1000), ccl.angular_cl(cosmo, Gal_position[1], Gal_shear[1], 1000), ccl.angular_cl(cosmo, Gal_shear[1], Gal_shear[1],1000))"
   ]
  },
  {
   "cell_type": "code",
   "execution_count": 24,
   "metadata": {},
   "outputs": [
    {
     "data": {
      "image/png": "[encoded data removed]",
      "text/plain": [
       "<Figure size 432x288 with 1 Axes>"
      ]
     },
     "metadata": {
      "needs_background": "light"
     },
     "output_type": "display_data"
    }
   ],
   "source": [
    "#Printing variation of Cls with l for a given z \n",
    "ell_print = np.linspace(100,2100,1000)\n",
    "plt.loglog(ell_print, ccl.angular_cl(cosmo, Gal_position[1], Gal_position[1], ell_print), label = \"Cl_gg\")\n",
    "plt.loglog(ell_print, ccl.angular_cl(cosmo, Gal_position[1], Gal_shear[1], ell_print), label = \"Cl_gk\")\n",
    "plt.loglog(ell_print, ccl.angular_cl(cosmo, Gal_shear[1], Gal_shear[1], ell_print), label = \"Cl_kk\")\n",
    "plt.xlabel(\"ell\")\n",
    "plt.ylabel(\"C_ell\")\n",
    "plt.legend()\n",
    "plt.show()"
   ]
  },
  {
   "cell_type": "code",
   "execution_count": 25,
   "metadata": {},
   "outputs": [
    {
     "name": "stdout",
     "output_type": "stream",
     "text": [
      "6.176244186750379e-07\n",
      "1.3013292639107498e-06\n",
      "(150, 1024)\n"
     ]
    },
    {
     "data": {
      "image/png": "[encoded data removed]",
      "text/plain": [
       "<Figure size 432x288 with 1 Axes>"
      ]
     },
     "metadata": {
      "needs_background": "light"
     },
     "output_type": "display_data"
    }
   ],
   "source": [
    "#Create power spectrum\n",
    "\n",
    "scale_factor_vec = 1/(1+z_true_vec[::-1])\n",
    "lpk_array = np.array([ccl.linear_matter_power(cosmo,k_vec,a) for a in scale_factor_vec])\n",
    "Growth_vector = np.array([ccl.growth_factor(cosmo, a) for a in scale_factor_vec])\n",
    "# TestingPk2D object for ell = 500\n",
    "pk_original = ccl.Pk2D(a_arr=scale_factor_vec, lk_arr=np.log(k_vec), pk_arr=lpk_array, is_logp=False)\n",
    "print(ccl.angular_cl(cosmo, Gal_position[1], Gal_position[1], 500, p_of_k_a=pk_original))\n",
    "print(ccl.angular_cl(cosmo, Gal_position[1], Gal_position[1],500))\n",
    "plt.loglog(k_vec, lpk_array[-1])\n",
    "print(lpk_array.shape)"
   ]
  },
  {
   "cell_type": "code",
   "execution_count": 26,
   "metadata": {},
   "outputs": [
    {
     "name": "stdout",
     "output_type": "stream",
     "text": [
      "(150,)\n",
      "[1.13235718e-05 1.13716298e-05 1.14204967e-05 1.14701915e-05\n",
      " 1.15207360e-05 1.15721490e-05 1.16244529e-05 1.16776695e-05\n",
      " 1.17318226e-05 1.17869361e-05 1.18430329e-05 1.19001392e-05\n",
      " 1.19582803e-05 1.20174852e-05 1.20777797e-05 1.21391934e-05\n",
      " 1.22017550e-05 1.22654972e-05 1.23304509e-05 1.23966489e-05\n",
      " 1.24641246e-05 1.25329144e-05 1.26030554e-05 1.26745843e-05\n",
      " 1.27475399e-05 1.28219637e-05 1.28978987e-05 1.29753874e-05\n",
      " 1.30544745e-05 1.31352082e-05 1.32176378e-05 1.33018131e-05\n",
      " 1.33877852e-05 1.34756116e-05 1.35653479e-05 1.36570528e-05\n",
      " 1.37507863e-05 1.38466157e-05 1.39446049e-05 1.40448221e-05\n",
      " 1.41473411e-05 1.42522370e-05 1.43595865e-05 1.44694697e-05\n",
      " 1.45819752e-05 1.46971882e-05 1.48152002e-05 1.49361111e-05\n",
      " 1.50600184e-05 1.51870267e-05 1.53172475e-05 1.54507945e-05\n",
      " 1.55877868e-05 1.57283507e-05 1.58726172e-05 1.60207226e-05\n",
      " 1.61728121e-05 1.63290356e-05 1.64895509e-05 1.66545259e-05\n",
      " 1.68241308e-05 1.69985508e-05 1.71779797e-05 1.73626130e-05\n",
      " 1.75526694e-05 1.77483698e-05 1.79499454e-05 1.81576493e-05\n",
      " 1.83717389e-05 1.85924913e-05 1.88201932e-05 1.90551529e-05\n",
      " 1.92976959e-05 1.95481595e-05 1.98069129e-05 2.00743279e-05\n",
      " 2.03508198e-05 2.06368135e-05 2.09327688e-05 2.12391638e-05\n",
      " 2.15565184e-05 2.18853704e-05 2.22263104e-05 2.25799531e-05\n",
      " 2.29469580e-05 2.33280237e-05 2.37239094e-05 2.41354055e-05\n",
      " 2.45633843e-05 2.50087464e-05 2.54724800e-05 2.59556462e-05\n",
      " 2.64593686e-05 2.69848690e-05 2.75334427e-05 2.81065035e-05\n",
      " 2.87055842e-05 2.93323058e-05 2.99884374e-05 3.06759044e-05\n",
      " 3.13967799e-05 3.21533286e-05 3.29479788e-05 3.37833840e-05\n",
      " 3.46624775e-05 3.55884190e-05 3.65646531e-05 3.75949588e-05\n",
      " 3.86835165e-05 3.98349156e-05 4.10541107e-05 4.23466612e-05\n",
      " 4.37187501e-05 4.51771238e-05 4.67292847e-05 4.83835543e-05\n",
      " 5.01493828e-05 5.20371839e-05 5.40584538e-05 5.62264952e-05\n",
      " 5.85560817e-05 6.10639041e-05 6.37688007e-05 6.66923149e-05\n",
      " 6.98593643e-05 7.32975874e-05 7.70396073e-05 8.11228082e-05\n",
      " 8.55906181e-05 9.04932858e-05 9.58895047e-05 1.01850234e-04\n",
      " 1.08455692e-04 1.15805611e-04 1.24015124e-04 1.33229090e-04\n",
      " 1.43614746e-04 1.55386286e-04 1.68802147e-04 1.84187288e-04\n",
      " 2.01948974e-04 2.22609574e-04 2.46844907e-04 2.75526457e-04\n",
      " 3.09835523e-04 3.51351593e-04 4.02263673e-04 4.65647550e-04\n",
      " 5.46003898e-04 6.49990899e-04]\n"
     ]
    }
   ],
   "source": [
    "#Create sigma square\n",
    "sigma_vec = np.array([double_bessel_integral(z,z) for z in z_true_vec[::-1]])\n",
    "print(sigma_vec.shape)\n",
    "print(sigma_vec)\n"
   ]
  },
  {
   "cell_type": "code",
   "execution_count": 27,
   "metadata": {},
   "outputs": [
    {
     "name": "stdout",
     "output_type": "stream",
     "text": [
      "(150,)\n"
     ]
    }
   ],
   "source": [
    "#Create dV array\n",
    "dV_vec = np.zeros((Num_z_bins, nz))\n",
    "for z_i in range (Num_z_bins):\n",
    "    dV_vec[z_i] = np.array([dV(z,z_i) for z in z_true_vec[::-1]])\n",
    "print(dV_vec[0].shape)    "
   ]
  },
  {
   "cell_type": "code",
   "execution_count": 28,
   "metadata": {},
   "outputs": [
    {
     "name": "stdout",
     "output_type": "stream",
     "text": [
      "[8.90171983e-05 7.04664420e-05 5.59799315e-05]\n",
      "[5.26861482e-07 4.12518995e-07 3.39601483e-07]\n",
      "[8.78090821e-10 6.77531084e-10 5.37696915e-10]\n"
     ]
    }
   ],
   "source": [
    "#finally calculating the covariance under 1st order PT\n",
    "n_ell = 3\n",
    "ell_vec = np.linspace(200,260,n_ell)\n",
    "\n",
    "\n",
    "def COV_N_Cl_gg (z_a, z_b, z_cl, lbd):\n",
    "    lpk_aux = np.transpose(np.transpose(lpk_array)*dV_vec[z_cl]*sigma_vec*(Growth_vector**2)*68/21)#I am creating a synthetic Pk blending the sigma square function into Pk, so as to use ccl C-ell routines \n",
    "    pk_adjusted = ccl.Pk2D(a_arr=scale_factor_vec, lk_arr=np.log(k_vec), pk_arr=lpk_aux, is_logp=False)\n",
    "    return survey_area*ccl.angular_cl(cosmo, Gal_position[z_a], Gal_position[z_b], ell_vec, p_of_k_a=pk_adjusted)*mass_array[z_cl, lbd]\n",
    "def COV_N_Cl_gk (z_a, z_b, z_cl, lbd):\n",
    "    lpk_aux = np.transpose(np.transpose(lpk_array)*dV_vec[z_cl]*sigma_vec*(Growth_vector**2)*68/21)#I am creating a synthetic Pk blending the sigma square function into Pk, so as to use ccl C-ell routines \n",
    "    pk_adjusted = ccl.Pk2D(a_arr=scale_factor_vec, lk_arr=np.log(k_vec), pk_arr=lpk_aux, is_logp=False)\n",
    "    return survey_area*ccl.angular_cl(cosmo, Gal_position[z_a], Gal_shear[z_b], ell_vec, p_of_k_a=pk_adjusted)*mass_array[z_cl, lbd]\n",
    "def COV_N_Cl_kk (z_a, z_b, z_cl, lbd):\n",
    "    lpk_aux = np.transpose(np.transpose(lpk_array)*dV_vec[z_cl]*sigma_vec*(Growth_vector**2)*68/21)#I am creating a synthetic Pk blending the sigma square function into Pk, so as to use ccl C-ell routines \n",
    "    pk_adjusted = ccl.Pk2D(a_arr=scale_factor_vec, lk_arr=np.log(k_vec), pk_arr=lpk_aux, is_logp=False)\n",
    "    return survey_area*ccl.angular_cl(cosmo, Gal_shear[z_a], Gal_shear[z_b], ell_vec, p_of_k_a=pk_adjusted)*mass_array[z_cl, lbd]\n",
    "\n",
    "print(COV_N_Cl_gg(1,2,3,1))\n",
    "print(COV_N_Cl_gk(4,5,5,0))\n",
    "print(COV_N_Cl_kk(2,2,2,2))"
   ]
  },
  {
   "cell_type": "code",
   "execution_count": 29,
   "metadata": {},
   "outputs": [
    {
     "data": {
      "image/png": "[encoded data removed]",
      "text/plain": [
       "<Figure size 432x288 with 2 Axes>"
      ]
     },
     "metadata": {
      "needs_background": "light"
     },
     "output_type": "display_data"
    },
    {
     "data": {
      "image/png": "[encoded data removed]",
      "text/plain": [
       "<Figure size 432x288 with 2 Axes>"
      ]
     },
     "metadata": {
      "needs_background": "light"
     },
     "output_type": "display_data"
    },
    {
     "data": {
      "image/png": "[encoded data removed]",
      "text/plain": [
       "<Figure size 432x288 with 2 Axes>"
      ]
     },
     "metadata": {
      "needs_background": "light"
     },
     "output_type": "display_data"
    }
   ],
   "source": [
    "#Testing for low richness, low ell, assuming same photo-z for the C-ells tracers\n",
    "matrix_gg = np.zeros((Num_z_bins, Num_z_bins))\n",
    "matrix_gk = np.zeros((Num_z_bins, Num_z_bins))\n",
    "matrix_kk = np.zeros((Num_z_bins, Num_z_bins))\n",
    "for z_cl in range (Num_z_bins):\n",
    "    for z_tracer in range(Num_z_bins):\n",
    "        matrix_gg[z_cl,z_tracer] = COV_N_Cl_gg(z_tracer,z_tracer,z_cl,0)[0]\n",
    "        matrix_gk[z_cl,z_tracer] = COV_N_Cl_gk(z_tracer,z_tracer,z_cl,0)[0]\n",
    "        matrix_kk[z_cl,z_tracer] = COV_N_Cl_kk(z_tracer,z_tracer,z_cl,0)[0]\n",
    "        \n",
    "plt.imshow(np.rot90(matrix_gg), cmap=plt.cm.get_cmap('Reds', 8))\n",
    "plt.colorbar()\n",
    "plt.xticks([])\n",
    "plt.yticks([])\n",
    "plt.xlabel(\"Cluster redshift\")\n",
    "plt.ylabel (\"Cl redshift\")\n",
    "plt.show()        \n",
    "\n",
    "plt.imshow(np.rot90(matrix_gk), cmap=plt.cm.get_cmap('Reds', 8))\n",
    "plt.colorbar()\n",
    "plt.xticks([])\n",
    "plt.yticks([])\n",
    "plt.xlabel(\"Cluster redshift\")\n",
    "plt.ylabel (\"Cl redshift\")\n",
    "plt.show()        \n",
    "\n",
    "plt.imshow(np.rot90(matrix_kk), cmap=plt.cm.get_cmap('Reds', 8))\n",
    "plt.colorbar()\n",
    "plt.xticks([])\n",
    "plt.yticks([])\n",
    "plt.xlabel(\"Cluster redshift\")\n",
    "plt.ylabel (\"Cl redshift\")\n",
    "plt.show()        \n"
   ]
  },
  {
   "cell_type": "code",
   "execution_count": 30,
   "metadata": {},
   "outputs": [
    {
     "data": {
      "image/png": "[encoded data removed]",
      "text/plain": [
       "<Figure size 432x288 with 2 Axes>"
      ]
     },
     "metadata": {
      "needs_background": "light"
     },
     "output_type": "display_data"
    },
    {
     "data": {
      "image/png": "[encoded data removed]",
      "text/plain": [
       "<Figure size 432x288 with 2 Axes>"
      ]
     },
     "metadata": {
      "needs_background": "light"
     },
     "output_type": "display_data"
    },
    {
     "data": {
      "image/png": "[encoded data removed]",
      "text/plain": [
       "<Figure size 432x288 with 2 Axes>"
      ]
     },
     "metadata": {
      "needs_background": "light"
     },
     "output_type": "display_data"
    }
   ],
   "source": [
    "#Testing for high richness, low ell, assuming same photo-z for the C-ells tracers\n",
    "matrix_gg = np.zeros((Num_z_bins, Num_z_bins))\n",
    "matrix_gk = np.zeros((Num_z_bins, Num_z_bins))\n",
    "matrix_kk = np.zeros((Num_z_bins, Num_z_bins))\n",
    "for z_cl in range (Num_z_bins):\n",
    "    for z_tracer in range(Num_z_bins):\n",
    "        matrix_gg[z_cl,z_tracer] = COV_N_Cl_gg(z_tracer,z_tracer,z_cl,2)[0]\n",
    "        matrix_gk[z_cl,z_tracer] = COV_N_Cl_gk(z_tracer,z_tracer,z_cl,2)[0]\n",
    "        matrix_kk[z_cl,z_tracer] = COV_N_Cl_kk(z_tracer,z_tracer,z_cl,2)[0]\n",
    "        \n",
    "plt.imshow(np.rot90(matrix_gg), cmap=plt.cm.get_cmap('Reds', 8))\n",
    "plt.colorbar()\n",
    "plt.xticks([])\n",
    "plt.yticks([])\n",
    "plt.xlabel(\"Cluster redshift\")\n",
    "plt.ylabel (\"Cl redshift\")\n",
    "plt.show()        \n",
    "\n",
    "plt.imshow(np.rot90(matrix_gk), cmap=plt.cm.get_cmap('Reds', 8))\n",
    "plt.colorbar()\n",
    "plt.xticks([])\n",
    "plt.yticks([])\n",
    "plt.xlabel(\"Cluster redshift\")\n",
    "plt.ylabel (\"Cl redshift\")\n",
    "plt.show()        \n",
    "\n",
    "plt.imshow(np.rot90(matrix_kk), cmap=plt.cm.get_cmap('Reds', 8))\n",
    "plt.colorbar()\n",
    "plt.xticks([])\n",
    "plt.yticks([])\n",
    "plt.xlabel(\"Cluster redshift\")\n",
    "plt.ylabel (\"Cl redshift\")\n",
    "plt.show()        \n"
   ]
  },
  {
   "cell_type": "code",
   "execution_count": 31,
   "metadata": {},
   "outputs": [
    {
     "data": {
      "image/png": "[encoded data removed]",
      "text/plain": [
       "<Figure size 432x288 with 2 Axes>"
      ]
     },
     "metadata": {
      "needs_background": "light"
     },
     "output_type": "display_data"
    },
    {
     "data": {
      "image/png": "[encoded data removed]",
      "text/plain": [
       "<Figure size 432x288 with 2 Axes>"
      ]
     },
     "metadata": {
      "needs_background": "light"
     },
     "output_type": "display_data"
    },
    {
     "data": {
      "image/png": "[encoded data removed]",
      "text/plain": [
       "<Figure size 432x288 with 2 Axes>"
      ]
     },
     "metadata": {
      "needs_background": "light"
     },
     "output_type": "display_data"
    }
   ],
   "source": [
    "#Testing for low richness, high ell, assuming same photo-z for the C-ells tracers\n",
    "matrix_gg = np.zeros((Num_z_bins, Num_z_bins))\n",
    "matrix_gk = np.zeros((Num_z_bins, Num_z_bins))\n",
    "matrix_kk = np.zeros((Num_z_bins, Num_z_bins))\n",
    "for z_cl in range (Num_z_bins):\n",
    "    for z_tracer in range(Num_z_bins):\n",
    "        matrix_gg[z_cl,z_tracer] = COV_N_Cl_gg(z_tracer,z_tracer,z_cl,0)[-1]\n",
    "        matrix_gk[z_cl,z_tracer] = COV_N_Cl_gk(z_tracer,z_tracer,z_cl,0)[-1]\n",
    "        matrix_kk[z_cl,z_tracer] = COV_N_Cl_kk(z_tracer,z_tracer,z_cl,0)[-1]\n",
    "        \n",
    "plt.imshow(np.rot90(matrix_gg), cmap=plt.cm.get_cmap('Reds', 8))\n",
    "plt.colorbar()\n",
    "plt.xticks([])\n",
    "plt.yticks([])\n",
    "plt.xlabel(\"Cluster redshift\")\n",
    "plt.ylabel (\"Cl redshift\")\n",
    "plt.show()        \n",
    "\n",
    "plt.imshow(np.rot90(matrix_gk), cmap=plt.cm.get_cmap('Reds', 8))\n",
    "plt.colorbar()\n",
    "plt.xticks([])\n",
    "plt.yticks([])\n",
    "plt.xlabel(\"Cluster redshift\")\n",
    "plt.ylabel (\"Cl redshift\")\n",
    "plt.show()        \n",
    "\n",
    "plt.imshow(np.rot90(matrix_kk), cmap=plt.cm.get_cmap('Reds', 8))\n",
    "plt.colorbar()\n",
    "plt.xticks([])\n",
    "plt.yticks([])\n",
    "plt.xlabel(\"Cluster redshift\")\n",
    "plt.ylabel (\"Cl redshift\")\n",
    "plt.show()        \n"
   ]
  },
  {
   "cell_type": "code",
   "execution_count": 32,
   "metadata": {},
   "outputs": [
    {
     "data": {
      "image/png": "[encoded data removed]",
      "text/plain": [
       "<Figure size 432x288 with 2 Axes>"
      ]
     },
     "metadata": {
      "needs_background": "light"
     },
     "output_type": "display_data"
    },
    {
     "data": {
      "image/png": "[encoded data removed]",
      "text/plain": [
       "<Figure size 432x288 with 2 Axes>"
      ]
     },
     "metadata": {
      "needs_background": "light"
     },
     "output_type": "display_data"
    },
    {
     "data": {
      "image/png": "[encoded data removed]",
      "text/plain": [
       "<Figure size 432x288 with 2 Axes>"
      ]
     },
     "metadata": {
      "needs_background": "light"
     },
     "output_type": "display_data"
    }
   ],
   "source": [
    "#Testing for high richness, high ell, assuming same photo-z for the C-ells tracers\n",
    "matrix_gg = np.zeros((Num_z_bins, Num_z_bins))\n",
    "matrix_gk = np.zeros((Num_z_bins, Num_z_bins))\n",
    "matrix_kk = np.zeros((Num_z_bins, Num_z_bins))\n",
    "for z_cl in range (Num_z_bins):\n",
    "    for z_tracer in range(Num_z_bins):\n",
    "        matrix_gg[z_cl,z_tracer] = COV_N_Cl_gg(z_tracer,z_tracer,z_cl,2)[-1]\n",
    "        matrix_gk[z_cl,z_tracer] = COV_N_Cl_gk(z_tracer,z_tracer,z_cl,2)[-1]\n",
    "        matrix_kk[z_cl,z_tracer] = COV_N_Cl_kk(z_tracer,z_tracer,z_cl,2)[-1]\n",
    "        \n",
    "plt.imshow(np.rot90(matrix_gg), cmap=plt.cm.get_cmap('Reds', 8))\n",
    "plt.colorbar()\n",
    "plt.xticks([])\n",
    "plt.yticks([])\n",
    "plt.xlabel(\"Cluster redshift\")\n",
    "plt.ylabel (\"Cl redshift\")\n",
    "plt.show()        \n",
    "\n",
    "plt.imshow(np.rot90(matrix_gk), cmap=plt.cm.get_cmap('Reds', 8))\n",
    "plt.colorbar()\n",
    "plt.xticks([])\n",
    "plt.yticks([])\n",
    "plt.xlabel(\"Cluster redshift\")\n",
    "plt.ylabel (\"Cl redshift\")\n",
    "plt.show()        \n",
    "\n",
    "plt.imshow(np.rot90(matrix_kk), cmap=plt.cm.get_cmap('Reds', 8))\n",
    "plt.colorbar()\n",
    "plt.xticks([])\n",
    "plt.yticks([])\n",
    "plt.xlabel(\"Cluster redshift\")\n",
    "plt.ylabel (\"Cl redshift\")\n",
    "plt.show()        \n"
   ]
  },
  {
   "cell_type": "code",
   "execution_count": 33,
   "metadata": {},
   "outputs": [
    {
     "data": {
      "image/png": "[encoded data removed]",
      "text/plain": [
       "<Figure size 432x288 with 2 Axes>"
      ]
     },
     "metadata": {
      "needs_background": "light"
     },
     "output_type": "display_data"
    },
    {
     "data": {
      "image/png": "[encoded data removed]",
      "text/plain": [
       "<Figure size 432x288 with 2 Axes>"
      ]
     },
     "metadata": {
      "needs_background": "light"
     },
     "output_type": "display_data"
    },
    {
     "data": {
      "image/png": "[encoded data removed]",
      "text/plain": [
       "<Figure size 432x288 with 2 Axes>"
      ]
     },
     "metadata": {
      "needs_background": "light"
     },
     "output_type": "display_data"
    }
   ],
   "source": [
    "# Consolidating the matrix \n",
    "matrix_gg = np.zeros((Num_z_bins*Num_Lbd_bins, Num_z_bins*n_ell))\n",
    "matrix_gk = np.zeros((Num_z_bins*Num_Lbd_bins, Num_z_bins*n_ell))\n",
    "matrix_kk = np.zeros((Num_z_bins*Num_Lbd_bins, Num_z_bins*n_ell))\n",
    "\n",
    "for row in range (Num_z_bins*Num_Lbd_bins):\n",
    "        for column in range(Num_z_bins*n_ell):\n",
    "            matrix_gg [row,column] = COV_N_Cl_gg(np.mod(column,Num_z_bins),np.mod(column,Num_z_bins),np.mod(row,Num_z_bins), row//Num_z_bins)[column//Num_z_bins]\n",
    "            matrix_gk [row,column]= COV_N_Cl_gk(np.mod(column,Num_z_bins),np.mod(column,Num_z_bins),np.mod(row,Num_z_bins), row//Num_z_bins)[column//Num_z_bins]\n",
    "            matrix_kk [row,column] = COV_N_Cl_kk(np.mod(column,Num_z_bins),np.mod(column,Num_z_bins),np.mod(row,Num_z_bins), row//Num_z_bins)[column//Num_z_bins]\n",
    "                \n",
    "\n",
    "            \n",
    "plt.imshow(np.rot90(matrix_gg), cmap=plt.cm.get_cmap('Reds', 8))\n",
    "plt.colorbar()\n",
    "plt.xticks([])\n",
    "plt.yticks([])\n",
    "plt.xlabel(\"Lambda & redshift\")\n",
    "plt.ylabel (\"ell and redshift\")\n",
    "plt.show()        \n",
    "\n",
    "plt.imshow(np.rot90(matrix_gk), cmap=plt.cm.get_cmap('Reds', 8))\n",
    "plt.colorbar()\n",
    "plt.xticks([])\n",
    "plt.yticks([])\n",
    "plt.xlabel(\"Lambda & redshift\")\n",
    "plt.ylabel (\"ell and redshift\")\n",
    "plt.show()        \n",
    "\n",
    "plt.imshow(np.rot90(matrix_kk), cmap=plt.cm.get_cmap('Reds', 8))\n",
    "plt.colorbar()\n",
    "plt.xticks([])\n",
    "plt.yticks([])\n",
    "plt.xlabel(\"Lambda & redshift\")\n",
    "plt.ylabel (\"ell and redshift\")\n",
    "plt.show()        \n",
    "             \n",
    "\n"
   ]
  },
  {
   "cell_type": "code",
   "execution_count": 30,
   "metadata": {},
   "outputs": [
    {
     "data": {
      "text/plain": [
       "array([ 2.72031627e-03+0.00000000e+00j,  1.44868592e-03+0.00000000e+00j,\n",
       "        8.17711579e-04+0.00000000e+00j,  4.89475358e-04+0.00000000e+00j,\n",
       "        2.98174540e-04+0.00000000e+00j,  1.72765389e-04+0.00000000e+00j,\n",
       "        9.07154732e-05+0.00000000e+00j,  4.27855211e-05+0.00000000e+00j,\n",
       "        1.81668480e-05+0.00000000e+00j,  6.94794150e-06+0.00000000e+00j,\n",
       "        2.38768672e-06+0.00000000e+00j,  7.32122603e-07+0.00000000e+00j,\n",
       "        1.97734136e-07+0.00000000e+00j,  4.60218409e-08+0.00000000e+00j,\n",
       "        8.91932966e-09+0.00000000e+00j,  1.34255426e-09+0.00000000e+00j,\n",
       "        1.33568260e-10+0.00000000e+00j,  6.42849105e-12+0.00000000e+00j,\n",
       "       -6.72272610e-20+0.00000000e+00j,  1.14404242e-20+0.00000000e+00j,\n",
       "       -1.37225596e-22+9.84558246e-21j, -1.37225596e-22-9.84558246e-21j,\n",
       "       -9.79698524e-21+0.00000000e+00j,  7.17589618e-21+1.93631114e-21j,\n",
       "        7.17589618e-21-1.93631114e-21j, -3.82653591e-21+3.21494321e-22j,\n",
       "       -3.82653591e-21-3.21494321e-22j,  3.21263611e-21+1.08135936e-21j,\n",
       "        3.21263611e-21-1.08135936e-21j, -1.19163671e-21+1.44335538e-21j,\n",
       "       -1.19163671e-21-1.44335538e-21j, -1.71159557e-21+0.00000000e+00j,\n",
       "        1.62876930e-21+3.65444262e-22j,  1.62876930e-21-3.65444262e-22j,\n",
       "        6.39603756e-22+1.27313061e-21j,  6.39603756e-22-1.27313061e-21j,\n",
       "       -8.23074231e-22+2.85906793e-22j, -8.23074231e-22-2.85906793e-22j,\n",
       "       -5.96544832e-22+5.01059102e-22j, -5.96544832e-22-5.01059102e-22j,\n",
       "        7.15434434e-22+0.00000000e+00j, -2.79163423e-22+4.50163325e-22j,\n",
       "       -2.79163423e-22-4.50163325e-22j,  2.72675935e-22+4.93461621e-22j,\n",
       "        2.72675935e-22-4.93461621e-22j, -3.22397913e-22+0.00000000e+00j,\n",
       "        4.14093320e-22+4.95574508e-23j,  4.14093320e-22-4.95574508e-23j,\n",
       "       -7.21887359e-23+7.22229604e-23j, -7.21887359e-23-7.22229604e-23j,\n",
       "        1.86357425e-22+0.00000000e+00j,  1.00218757e-22+8.18592447e-23j,\n",
       "        1.00218757e-22-8.18592447e-23j,  6.41049377e-23+0.00000000e+00j])"
      ]
     },
     "execution_count": 30,
     "metadata": {},
     "output_type": "execute_result"
    }
   ],
   "source": [
    "np.linalg.eigvals(matrix_gg)"
   ]
  },
  {
   "cell_type": "code",
   "execution_count": null,
   "metadata": {},
   "outputs": [],
   "source": [
    "test_position_position = np.array([ccl.angular_cl(cosmo, Gal_position[i], Gal_position[i],200) for i in range(Num_z_bins)])\n",
    "test_position_shear = np.array([ccl.angular_cl(cosmo, Gal_position[i], Gal_shear[i],200) for i in range(Num_z_bins)])\n",
    "test_shear_shear = np.array([ccl.angular_cl(cosmo, Gal_shear[i], Gal_shear[i],200) for i in range(Num_z_bins)])\n"
   ]
  },
  {
   "cell_type": "code",
   "execution_count": null,
   "metadata": {},
   "outputs": [],
   "source": [
    "plt.plot(Z_bins[:-1], test_position_position)\n",
    "plt.xlabel(\"Redshift bins\")\n",
    "plt.ylabel(\"Cl-gg for l = 200\")\n",
    "plt.show()"
   ]
  },
  {
   "cell_type": "code",
   "execution_count": null,
   "metadata": {},
   "outputs": [],
   "source": [
    "plt.plot(Z_bins[:-1], test_position_shear)\n",
    "plt.xlabel(\"Redshift bins\")\n",
    "plt.ylabel(\"Cl-gk for l = 200\")\n",
    "plt.show()"
   ]
  },
  {
   "cell_type": "code",
   "execution_count": null,
   "metadata": {},
   "outputs": [],
   "source": [
    "plt.plot(Z_bins[:-1], test_shear_shear)\n",
    "plt.xlabel(\"Redshift bins\")\n",
    "plt.ylabel(\"Cl-kk for l = 200\")\n",
    "plt.show()"
   ]
  },
  {
   "cell_type": "code",
   "execution_count": null,
   "metadata": {},
   "outputs": [],
   "source": [
    "help(ccl.pk2d)"
   ]
  },
  {
   "cell_type": "code",
   "execution_count": null,
   "metadata": {},
   "outputs": [],
   "source": [
    "help(ccl.WeakLensingTracer)"
   ]
  },
  {
   "cell_type": "code",
   "execution_count": null,
   "metadata": {},
   "outputs": [],
   "source": [
    "print(np.pi)"
   ]
  },
  {
   "cell_type": "code",
   "execution_count": null,
   "metadata": {},
   "outputs": [],
   "source": [
    "for i in range(30):\n",
    "    alpha = np.random.uniform(0.2,0.4)\n",
    "    beta = np.random.uniform(0.02,0.06)\n",
    "    gamma = np.random.uniform(0.5,0.8)\n",
    "    delta  = np.random.uniform(-1.3,-0.7)\n",
    "    print(\"interaction: \" + str(i))\n",
    "    print(alpha,beta,gamma,delta)\n",
    "    print(ccl.linear_matter_power(ccl.Cosmology(Omega_c = alpha, Omega_b = beta, Omega_k = 0, A_s = 2.1e-9, n_s = 0.96, h = gamma, w0 = delta), 0.01,1))\n",
    "    print(ccl.massfunc(ccl.Cosmology(Omega_c = alpha, Omega_b = beta, Omega_k = 0, A_s = 2.1e-9, n_s = 0.96, h = gamma, w0 = delta), 1e13,1))\n",
    "    print('\\n')"
   ]
  },
  {
   "cell_type": "code",
   "execution_count": 29,
   "metadata": {},
   "outputs": [
    {
     "name": "stdout",
     "output_type": "stream",
     "text": [
      "(1024, 150)\n"
     ]
    }
   ],
   "source": [
    "print(lpk_array.T.shape)"
   ]
  },
  {
   "cell_type": "code",
   "execution_count": null,
   "metadata": {},
   "outputs": [],
   "source": []
  }
 ],
 "metadata": {
  "kernelspec": {
   "display_name": "Python 3",
   "language": "python",
   "name": "python3"
  },
  "language_info": {
   "codemirror_mode": {
    "name": "ipython",
    "version": 3
   },
   "file_extension": ".py",
   "mimetype": "text/x-python",
   "name": "python",
   "nbconvert_exporter": "python",
   "pygments_lexer": "ipython3",
   "version": "3.7.1"
  }
 },
 "nbformat": 4,
 "nbformat_minor": 2
}
